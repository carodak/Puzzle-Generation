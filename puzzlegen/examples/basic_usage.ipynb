{
  "cells": [
    {
      "cell_type": "markdown",
      "metadata": {
        "id": "3OML9-oCNHQY"
      },
      "source": [
        "# Puzzle Generation Code for the Executive Functioning Task (https://osf.io/3pz74/wiki/home/)\n",
        "Developed by Caroline DAKOURE"
      ]
    },
    {
      "cell_type": "markdown",
      "metadata": {
        "id": "u4iAFjjkXOor"
      },
      "source": [
        "## Randomly generate 1 puzzle and test its solvability within a specified number of moves (e.g, 5 moves maximum)."
      ]
    },
    {
      "cell_type": "code",
      "execution_count": null,
      "metadata": {
        "id": "TYfs7fZLXOos"
      },
      "outputs": [],
      "source": [
        "from puzzlegen.frontend import PuzzleGame\n",
        "\n",
        "# 1. Create a puzzle game\n",
        "game = PuzzleGame(nb_blocks=10, colors=['red', 'blue', 'gray'], nb_moves=5, grid_size=(12, 12))\n",
        "\n",
        "# 2. Generate a random puzzle\n",
        "game.generate_puzzle()\n",
        "\n",
        "# 3. Display the puzzle\n",
        "game.show_puzzle()\n",
        "\n",
        "# 4. Attempting to computationally solve the puzzle (i.e., finding a solution within nb_moves)\n",
        "solution = game.solve_puzzle()\n",
        "\n",
        "# 5. Save the solution found by the automatic solver\n",
        "game.save_solution_as_pdf(\"solution.pdf\")\n",
        "game.save_batch_as_csv(\"batch.csv\")\n"
      ]
    },
    {
      "cell_type": "markdown",
      "metadata": {
        "id": "QFA40OWNAnIW"
      },
      "source": [
        "## Generate a batch of puzzles solvable in 5 moves maximum"
      ]
    },
    {
      "cell_type": "markdown",
      "metadata": {
        "id": "lMCxi46zXW3I"
      },
      "source": [
        "Now, let's generate a lot of puzzles. In this process, puzzles that cannot be solved within the specified maximum number of moves (nb_moves) are automatically discarded. Only puzzles solvable in nb_moves moves or fewer are kept."
      ]
    },
    {
      "cell_type": "code",
      "execution_count": null,
      "metadata": {},
      "outputs": [],
      "source": [
        "from puzzlegen.frontend import PuzzleBatch\n",
        "\n",
        "# 1. Create a batch of puzzles\n",
        "batch = PuzzleBatch(\n",
        "    blocks_range=(6, 13),\n",
        "    colors_range=(2, 4),\n",
        "    colors_blocks=['blue', 'red', 'gray', 'yellow'],\n",
        "    nb_moves=5,\n",
        "    grid_size=(12, 6),\n",
        "    stack_probability=0.75\n",
        ")\n",
        "\n",
        "# 2. Generate the batch\n",
        "batch.generate()\n",
        "\n",
        "# 3. Show statistics and save the results\n",
        "batch.show_stats()\n",
        "batch.save_pdf(\"batch_puzzles.pdf\")\n",
        "batch.save_csv(\"batch_puzzles.csv\")\n"
      ]
    }
  ],
  "metadata": {
    "accelerator": "GPU",
    "colab": {
      "gpuType": "T4",
      "provenance": []
    },
    "kernelspec": {
      "display_name": "Python 3.9",
      "language": "python",
      "name": "python3"
    },
    "language_info": {
      "codemirror_mode": {
        "name": "ipython",
        "version": 3
      },
      "file_extension": ".py",
      "mimetype": "text/x-python",
      "name": "python",
      "nbconvert_exporter": "python",
      "pygments_lexer": "ipython3",
      "version": "3.9.6"
    }
  },
  "nbformat": 4,
  "nbformat_minor": 0
}
